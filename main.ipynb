{
 "cells": [
  {
   "cell_type": "code",
   "execution_count": 2,
   "metadata": {},
   "outputs": [],
   "source": [
    "import pandas as pd"
   ]
  },
  {
   "cell_type": "code",
   "execution_count": 8,
   "metadata": {},
   "outputs": [
    {
     "data": {
      "text/html": [
       "<div>\n",
       "<style scoped>\n",
       "    .dataframe tbody tr th:only-of-type {\n",
       "        vertical-align: middle;\n",
       "    }\n",
       "\n",
       "    .dataframe tbody tr th {\n",
       "        vertical-align: top;\n",
       "    }\n",
       "\n",
       "    .dataframe thead th {\n",
       "        text-align: right;\n",
       "    }\n",
       "</style>\n",
       "<table border=\"1\" class=\"dataframe\">\n",
       "  <thead>\n",
       "    <tr style=\"text-align: right;\">\n",
       "      <th></th>\n",
       "      <th>Пол</th>\n",
       "      <th>Образование</th>\n",
       "      <th>Уровень должности</th>\n",
       "      <th>Настороженность</th>\n",
       "      <th>Расчётливость</th>\n",
       "      <th>Жёсткость</th>\n",
       "      <th>Независимость</th>\n",
       "      <th>Авантюризм</th>\n",
       "      <th>Непрактичность</th>\n",
       "      <th>Осторожность</th>\n",
       "      <th>Нормативность</th>\n",
       "      <th>Жертвенность</th>\n",
       "      <th>Эмоциональность</th>\n",
       "      <th>Расслабленность</th>\n",
       "      <th>Безынициативность</th>\n",
       "    </tr>\n",
       "  </thead>\n",
       "  <tbody>\n",
       "    <tr>\n",
       "      <th>0</th>\n",
       "      <td>1</td>\n",
       "      <td>3</td>\n",
       "      <td>3</td>\n",
       "      <td>51</td>\n",
       "      <td>43</td>\n",
       "      <td>17</td>\n",
       "      <td>91</td>\n",
       "      <td>40</td>\n",
       "      <td>21</td>\n",
       "      <td>28</td>\n",
       "      <td>35</td>\n",
       "      <td>32</td>\n",
       "      <td>91</td>\n",
       "      <td>30</td>\n",
       "      <td>33</td>\n",
       "    </tr>\n",
       "    <tr>\n",
       "      <th>1</th>\n",
       "      <td>1</td>\n",
       "      <td>4</td>\n",
       "      <td>6</td>\n",
       "      <td>96</td>\n",
       "      <td>63</td>\n",
       "      <td>94</td>\n",
       "      <td>81</td>\n",
       "      <td>22</td>\n",
       "      <td>93</td>\n",
       "      <td>59</td>\n",
       "      <td>35</td>\n",
       "      <td>19</td>\n",
       "      <td>19</td>\n",
       "      <td>18</td>\n",
       "      <td>15</td>\n",
       "    </tr>\n",
       "    <tr>\n",
       "      <th>2</th>\n",
       "      <td>2</td>\n",
       "      <td>4</td>\n",
       "      <td>5</td>\n",
       "      <td>84</td>\n",
       "      <td>26</td>\n",
       "      <td>87</td>\n",
       "      <td>26</td>\n",
       "      <td>22</td>\n",
       "      <td>36</td>\n",
       "      <td>34</td>\n",
       "      <td>57</td>\n",
       "      <td>45</td>\n",
       "      <td>30</td>\n",
       "      <td>27</td>\n",
       "      <td>80</td>\n",
       "    </tr>\n",
       "    <tr>\n",
       "      <th>3</th>\n",
       "      <td>1</td>\n",
       "      <td>4</td>\n",
       "      <td>5</td>\n",
       "      <td>94</td>\n",
       "      <td>53</td>\n",
       "      <td>81</td>\n",
       "      <td>77</td>\n",
       "      <td>2</td>\n",
       "      <td>49</td>\n",
       "      <td>20</td>\n",
       "      <td>19</td>\n",
       "      <td>47</td>\n",
       "      <td>2</td>\n",
       "      <td>85</td>\n",
       "      <td>44</td>\n",
       "    </tr>\n",
       "    <tr>\n",
       "      <th>4</th>\n",
       "      <td>1</td>\n",
       "      <td>3</td>\n",
       "      <td>6</td>\n",
       "      <td>79</td>\n",
       "      <td>4</td>\n",
       "      <td>87</td>\n",
       "      <td>89</td>\n",
       "      <td>22</td>\n",
       "      <td>13</td>\n",
       "      <td>74</td>\n",
       "      <td>30</td>\n",
       "      <td>59</td>\n",
       "      <td>56</td>\n",
       "      <td>82</td>\n",
       "      <td>15</td>\n",
       "    </tr>\n",
       "  </tbody>\n",
       "</table>\n",
       "</div>"
      ],
      "text/plain": [
       "  Пол Образование  Уровень должности  Настороженность  Расчётливость   \n",
       "0   1           3                  3               51             43  \\\n",
       "1   1           4                  6               96             63   \n",
       "2   2           4                  5               84             26   \n",
       "3   1           4                  5               94             53   \n",
       "4   1           3                  6               79              4   \n",
       "\n",
       "   Жёсткость  Независимость  Авантюризм  Непрактичность  Осторожность   \n",
       "0         17             91          40              21            28  \\\n",
       "1         94             81          22              93            59   \n",
       "2         87             26          22              36            34   \n",
       "3         81             77           2              49            20   \n",
       "4         87             89          22              13            74   \n",
       "\n",
       "   Нормативность  Жертвенность  Эмоциональность  Расслабленность   \n",
       "0             35            32               91               30  \\\n",
       "1             35            19               19               18   \n",
       "2             57            45               30               27   \n",
       "3             19            47                2               85   \n",
       "4             30            59               56               82   \n",
       "\n",
       "   Безынициативность  \n",
       "0                 33  \n",
       "1                 15  \n",
       "2                 80  \n",
       "3                 44  \n",
       "4                 15  "
      ]
     },
     "execution_count": 8,
     "metadata": {},
     "output_type": "execute_result"
    }
   ],
   "source": [
    "df = pd.read_excel(\"данные для обработки.xlsx\")\n",
    "df.head()"
   ]
  },
  {
   "cell_type": "code",
   "execution_count": 12,
   "metadata": {},
   "outputs": [
    {
     "data": {
      "text/plain": [
       "Пол\n",
       "1       691\n",
       "2       342\n",
       "1, 1      1\n",
       "Name: count, dtype: int64"
      ]
     },
     "execution_count": 12,
     "metadata": {},
     "output_type": "execute_result"
    }
   ],
   "source": [
    "df['Пол'].value_counts()"
   ]
  },
  {
   "cell_type": "code",
   "execution_count": 13,
   "metadata": {},
   "outputs": [
    {
     "data": {
      "text/plain": [
       "Образование\n",
       "3       731\n",
       "4       214\n",
       "2        76\n",
       "1        12\n",
       "3, 3      1\n",
       "Name: count, dtype: int64"
      ]
     },
     "execution_count": 13,
     "metadata": {},
     "output_type": "execute_result"
    }
   ],
   "source": [
    "df['Образование'].value_counts()"
   ]
  },
  {
   "cell_type": "code",
   "execution_count": 14,
   "metadata": {},
   "outputs": [
    {
     "data": {
      "text/plain": [
       "Уровень должности\n",
       "2    334\n",
       "3    245\n",
       "4    121\n",
       "5    118\n",
       "6     96\n",
       "1     76\n",
       "7     23\n",
       "8     21\n",
       "Name: count, dtype: int64"
      ]
     },
     "execution_count": 14,
     "metadata": {},
     "output_type": "execute_result"
    }
   ],
   "source": [
    "df['Уровень должности'].value_counts()"
   ]
  },
  {
   "cell_type": "code",
   "execution_count": 30,
   "metadata": {},
   "outputs": [
    {
     "data": {
      "text/plain": [
       "Пол\n",
       "1    35\n",
       "2     9\n",
       "Name: count, dtype: int64"
      ]
     },
     "execution_count": 30,
     "metadata": {},
     "output_type": "execute_result"
    }
   ],
   "source": [
    "res = df[df['Уровень должности'] > 6]\n",
    "res['Пол'].value_counts()"
   ]
  },
  {
   "cell_type": "code",
   "execution_count": 32,
   "metadata": {},
   "outputs": [
    {
     "data": {
      "text/plain": [
       "Образование\n",
       "3    24\n",
       "4    13\n",
       "2     7\n",
       "Name: count, dtype: int64"
      ]
     },
     "execution_count": 32,
     "metadata": {},
     "output_type": "execute_result"
    }
   ],
   "source": [
    "res['Образование'].value_counts()"
   ]
  }
 ],
 "metadata": {
  "kernelspec": {
   "display_name": "venv",
   "language": "python",
   "name": "python3"
  },
  "language_info": {
   "codemirror_mode": {
    "name": "ipython",
    "version": 3
   },
   "file_extension": ".py",
   "mimetype": "text/x-python",
   "name": "python",
   "nbconvert_exporter": "python",
   "pygments_lexer": "ipython3",
   "version": "3.11.0"
  },
  "orig_nbformat": 4
 },
 "nbformat": 4,
 "nbformat_minor": 2
}
